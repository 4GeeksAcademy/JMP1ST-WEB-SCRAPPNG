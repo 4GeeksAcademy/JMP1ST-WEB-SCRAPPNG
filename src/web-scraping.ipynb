{
 "cells": [
  {
   "cell_type": "markdown",
   "metadata": {},
   "source": "# Web Scraping Project"
  },
  {
   "cell_type": "code",
   "metadata": {
    "ExecuteTime": {
     "end_time": "2025-05-24T01:26:24.393269Z",
     "start_time": "2025-05-24T01:26:24.135363Z"
    }
   },
   "source": [
    "import requests\n",
    "import sqlite3\n",
    "import matplotlib.pyplot as plt\n",
    "import pandas as pd\n",
    "from bs4 import BeautifulSoup"
   ],
   "outputs": [],
   "execution_count": 1
  },
  {
   "metadata": {},
   "cell_type": "markdown",
   "source": "## Exercise 2: Download HTML ✓"
  },
  {
   "metadata": {
    "ExecuteTime": {
     "end_time": "2025-05-24T01:26:25.263443Z",
     "start_time": "2025-05-24T01:26:24.559016Z"
    }
   },
   "cell_type": "code",
   "source": [
    "url = \"https://books.toscrape.com/\"\n",
    "response = requests.get(url)\n",
    "if response.status_code == 200:\n",
    "    print(\"Todo ok\")\n",
    "else:\n",
    "    print(\"Todo mal\")"
   ],
   "outputs": [
    {
     "name": "stdout",
     "output_type": "stream",
     "text": [
      "Todo ok\n"
     ]
    }
   ],
   "execution_count": 2
  },
  {
   "metadata": {},
   "cell_type": "markdown",
   "source": "## Exercise 3: Transforms the HTML and cleaning the values✓"
  },
  {
   "metadata": {
    "ExecuteTime": {
     "end_time": "2025-05-24T01:26:25.356017Z",
     "start_time": "2025-05-24T01:26:25.300862Z"
    }
   },
   "cell_type": "code",
   "source": [
    "books_table = []\n",
    "\n",
    "# Content parsing\n",
    "soup = BeautifulSoup(response.content)\n",
    "\n",
    "# Tags filtering for title, price, if it is in stock and the start rating:\n",
    "\n",
    "# Filter:\n",
    "# Finds all the lists with class=\"the values that I'm looking for\"\n",
    "books_items = soup.find_all('li', class_=\"col-xs-6 col-sm-4 col-md-3 col-lg-3\" )\n",
    "\n",
    "# To get the book information like Title, Price, Availability and the Stars rating(in str):\n",
    "for books in books_items:\n",
    "    raw_title = books.find('h3').find('a')  # Finds the book title\n",
    "    title_tag = raw_title.text.strip()\n",
    "\n",
    "    raw_price = books.find('p', class_='price_color')  # Finds the book price\n",
    "    total_price = raw_price.text.strip().replace('£','')  # Returns the price in clean format\n",
    "\n",
    "    availability_tag = books.find('p', class_=\"instock availability\") # Finds the book availability\n",
    "    availability = availability_tag.text.strip()  # Returns the stock in clean format\n",
    "\n",
    "    starts_tag = books.find('p', class_='star-rating')\n",
    "    rating = ''\n",
    "    # Finds a <p> tag with class=star-rating, get all its class names, and the second part is the rating(stars) like 'Three'\n",
    "    if starts_tag:\n",
    "        classes = starts_tag.get('class')\n",
    "        rating = classes[1]\n",
    "\n",
    "    books_table.append({'Title': title_tag,\n",
    "                        'Price': total_price,\n",
    "                        'Availability': availability,\n",
    "                        'Rating': rating})"
   ],
   "outputs": [],
   "execution_count": 3
  },
  {
   "metadata": {},
   "cell_type": "markdown",
   "source": "## Exercise 4: Process the DataFrame (Creation of df)"
  },
  {
   "metadata": {
    "ExecuteTime": {
     "end_time": "2025-05-24T01:26:25.571331Z",
     "start_time": "2025-05-24T01:26:25.534269Z"
    }
   },
   "cell_type": "code",
   "source": [
    "df = pd.DataFrame(books_table)\n",
    "df.head()\n",
    "#df.tail()"
   ],
   "outputs": [
    {
     "data": {
      "text/plain": [
       "                          Title  Price Availability Rating\n",
       "0            A Light in the ...  51.77     In stock  Three\n",
       "1            Tipping the Velvet  53.74     In stock    One\n",
       "2                    Soumission  50.10     In stock    One\n",
       "3                 Sharp Objects  47.82     In stock   Four\n",
       "4  Sapiens: A Brief History ...  54.23     In stock   Five"
      ],
      "text/html": [
       "<div>\n",
       "<style scoped>\n",
       "    .dataframe tbody tr th:only-of-type {\n",
       "        vertical-align: middle;\n",
       "    }\n",
       "\n",
       "    .dataframe tbody tr th {\n",
       "        vertical-align: top;\n",
       "    }\n",
       "\n",
       "    .dataframe thead th {\n",
       "        text-align: right;\n",
       "    }\n",
       "</style>\n",
       "<table border=\"1\" class=\"dataframe\">\n",
       "  <thead>\n",
       "    <tr style=\"text-align: right;\">\n",
       "      <th></th>\n",
       "      <th>Title</th>\n",
       "      <th>Price</th>\n",
       "      <th>Availability</th>\n",
       "      <th>Rating</th>\n",
       "    </tr>\n",
       "  </thead>\n",
       "  <tbody>\n",
       "    <tr>\n",
       "      <th>0</th>\n",
       "      <td>A Light in the ...</td>\n",
       "      <td>51.77</td>\n",
       "      <td>In stock</td>\n",
       "      <td>Three</td>\n",
       "    </tr>\n",
       "    <tr>\n",
       "      <th>1</th>\n",
       "      <td>Tipping the Velvet</td>\n",
       "      <td>53.74</td>\n",
       "      <td>In stock</td>\n",
       "      <td>One</td>\n",
       "    </tr>\n",
       "    <tr>\n",
       "      <th>2</th>\n",
       "      <td>Soumission</td>\n",
       "      <td>50.10</td>\n",
       "      <td>In stock</td>\n",
       "      <td>One</td>\n",
       "    </tr>\n",
       "    <tr>\n",
       "      <th>3</th>\n",
       "      <td>Sharp Objects</td>\n",
       "      <td>47.82</td>\n",
       "      <td>In stock</td>\n",
       "      <td>Four</td>\n",
       "    </tr>\n",
       "    <tr>\n",
       "      <th>4</th>\n",
       "      <td>Sapiens: A Brief History ...</td>\n",
       "      <td>54.23</td>\n",
       "      <td>In stock</td>\n",
       "      <td>Five</td>\n",
       "    </tr>\n",
       "  </tbody>\n",
       "</table>\n",
       "</div>"
      ]
     },
     "execution_count": 4,
     "metadata": {},
     "output_type": "execute_result"
    }
   ],
   "execution_count": 4
  },
  {
   "metadata": {},
   "cell_type": "markdown",
   "source": "## Exercise 5: Storing data in SQL"
  },
  {
   "metadata": {
    "ExecuteTime": {
     "end_time": "2025-05-24T01:26:25.861368Z",
     "start_time": "2025-05-24T01:26:25.824874Z"
    }
   },
   "cell_type": "code",
   "source": [
    "# Connections\n",
    "conn = sqlite3.connect('books.db') # Creates the connection and the file\n",
    "cursor = conn.cursor()  # To be able to run commands\n",
    "\n",
    "# Table Creation\n",
    "cursor.execute('''CREATE TABLE IF NOT EXISTS Books(Title TEXT,\n",
    "                                                   Price REAL,\n",
    "                                                   Availability TEXT,\n",
    "                                                   Rating TEXT)''')\n",
    "\n",
    "df.to_sql('Books', conn, if_exists='append', index=False)"
   ],
   "outputs": [
    {
     "data": {
      "text/plain": [
       "20"
      ]
     },
     "execution_count": 5,
     "metadata": {},
     "output_type": "execute_result"
    }
   ],
   "execution_count": 5
  },
  {
   "cell_type": "code",
   "metadata": {
    "ExecuteTime": {
     "end_time": "2025-05-24T01:26:26.267768Z",
     "start_time": "2025-05-24T01:26:26.262281Z"
    }
   },
   "source": [
    "# Commiting changes and closing the connection\n",
    "conn.commit()\n",
    "conn.close()"
   ],
   "outputs": [],
   "execution_count": 6
  },
  {
   "metadata": {},
   "cell_type": "markdown",
   "source": "## Exercise 6: Visualization"
  },
  {
   "metadata": {
    "ExecuteTime": {
     "end_time": "2025-05-24T01:26:27.207123Z",
     "start_time": "2025-05-24T01:26:26.541726Z"
    }
   },
   "cell_type": "code",
   "source": [
    "star_order = ['One', 'Two', 'Three', 'Four', 'Five']  # To indicate the index order\n",
    "# Selects the \"ratings\" to plot them, counts the values in the rating and then sorts the index by the pre-defined order\n",
    "rating_counts = df['Rating'].value_counts().reindex(star_order)\n",
    "\n",
    "plt.figure(figsize=(8,6))\n",
    "rating_counts.plot(kind='bar', color='red')  # Plots a Bar chart\n",
    "plt.title('Number of Books by Star Rating\\n (Based on 20 books)', fontsize=14)\n",
    "plt.xlabel('Rating')\n",
    "plt.ylabel('Number of Books')\n",
    "plt.xticks(rotation=0)\n",
    "plt.tight_layout()\n",
    "plt.legend()\n",
    "plt.show()"
   ],
   "outputs": [
    {
     "data": {
      "text/plain": [
       "<Figure size 800x600 with 1 Axes>"
      ],
      "image/png": "[encoded data removed]"
     },
     "metadata": {},
     "output_type": "display_data"
    }
   ],
   "execution_count": 7
  }
 ],
 "metadata": {
  "kernelspec": {
   "display_name": "Python 3",
   "language": "python",
   "name": "python3"
  },
  "language_info": {
   "codemirror_mode": {
    "name": "ipython",
    "version": 3
   },
   "file_extension": ".py",
   "mimetype": "text/x-python",
   "name": "python",
   "nbconvert_exporter": "python",
   "pygments_lexer": "ipython3",
   "version": "3.11.4"
  },
  "orig_nbformat": 4
 },
 "nbformat": 4,
 "nbformat_minor": 2
}
