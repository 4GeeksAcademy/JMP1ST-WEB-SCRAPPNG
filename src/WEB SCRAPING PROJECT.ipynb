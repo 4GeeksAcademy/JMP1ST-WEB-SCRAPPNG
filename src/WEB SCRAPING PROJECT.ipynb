{
    "cells": [
        {
            "cell_type": "markdown",
            "metadata": {},
            "source": [
                "# Explore here\n",
                "\n",
                "It's recommended to use this notebook for exploration purposes."
            ]
        },
        {
            "cell_type": "code",
            "execution_count": 1,
            "metadata": {},
            "outputs": [],
            "source": [
                "import os\n",
                "from bs4 import BeautifulSoup\n",
                "import requests\n",
                "import time\n",
                "import sqlite3\n",
                "import matplotlib.pyplot as plt\n",
                "import seaborn as sns\n",
                "\n"
            ]
        },
        {
            "cell_type": "code",
            "execution_count": 2,
            "metadata": {},
            "outputs": [],
            "source": [
                "import pandas as pd "
            ]
        },
        {
            "cell_type": "code",
            "execution_count": 3,
            "metadata": {},
            "outputs": [],
            "source": [
                "import requests"
            ]
        },
        {
            "cell_type": "code",
            "execution_count": 4,
            "metadata": {},
            "outputs": [
                {
                    "name": "stdout",
                    "output_type": "stream",
                    "text": [
                        "Todo ok\n"
                    ]
                }
            ],
            "source": [
                "#Exercise 2 Download HTML ✓\n",
                "url = \"https://books.toscrape.com/\"\n",
                "response = requests.get(url)\n",
                "if response.status_code == 200:\n",
                "    print(\"Todo ok\")\n",
                "else: \n",
                "    print(\"Todo mal\")"
            ]
        },
        {
            "cell_type": "code",
            "execution_count": 5,
            "metadata": {},
            "outputs": [],
            "source": [
                "#Exercise 3 Transform the HTML and cleaning the values✓\n",
                "Books_table = []\n",
                " #Content parsing\n",
                "soup = BeautifulSoup(response.content)\n",
                " \n",
                " #Tags filtering for title, price, if it is in stock and the start rating:\n",
                "\n",
                " #Filter: \n",
                "books_items = soup.find_all('li', class_=\"col-xs-6 col-sm-4 col-md-3 col-lg-3\" ) # Finds all the lists with class=\"the values that I'm looking for\"\n",
                "\n",
                "\n",
                "#To get the books information like Title, Price, Availability and the Stars rating(in str):\n",
                "for books in books_items:\n",
                "    raw_title = books.find('h3').find('a') #Finds the book title \n",
                "    title_tag = raw_title.text.strip()\n",
                "\n",
                "    raw_price = books.find('p', class_='price_color') #Finds the book price and returns the price in clean format\n",
                "    total_price = raw_price.text.strip().replace('£','')\n",
                "\n",
                "    availability = books.find('p', class_=\"instock availability\") #Finds the book availability and returns the stock in clean format\n",
                "    avail_confir = availability.text.strip()\n",
                "    \n",
                "    starts_tag = books.find('p', class_='star-rating')  \n",
                "    if starts_tag: #finds a <p> tag with class=star-rating, get all its class names and the the second part is the rating(stars) like 'Three'\n",
                "        classes = starts_tag.get('class')\n",
                "        rating = classes[1]\n",
                "    \n",
                "    Books_table.append({\n",
                "    'Title': title_tag,\n",
                "    'Price': total_price,\n",
                "    'Availability': avail_confir,\n",
                "    'Rating': rating \n",
                "})\n",
                "\n",
                "    #print(f\"Title: {title_tag}\")\n",
                "    #print(f\"Price: {total_price}\")\n",
                "    #print(f\"Availability: {avail_confir}\")\n",
                "    #print(f\"Rating: {rating} stars\\n\")"
            ]
        },
        {
            "cell_type": "code",
            "execution_count": 6,
            "metadata": {},
            "outputs": [
                {
                    "data": {
                        "text/html": [
                            "<div>\n",
                            "<style scoped>\n",
                            "    .dataframe tbody tr th:only-of-type {\n",
                            "        vertical-align: middle;\n",
                            "    }\n",
                            "\n",
                            "    .dataframe tbody tr th {\n",
                            "        vertical-align: top;\n",
                            "    }\n",
                            "\n",
                            "    .dataframe thead th {\n",
                            "        text-align: right;\n",
                            "    }\n",
                            "</style>\n",
                            "<table border=\"1\" class=\"dataframe\">\n",
                            "  <thead>\n",
                            "    <tr style=\"text-align: right;\">\n",
                            "      <th></th>\n",
                            "      <th>Title</th>\n",
                            "      <th>Price</th>\n",
                            "      <th>Availability</th>\n",
                            "      <th>Rating</th>\n",
                            "    </tr>\n",
                            "  </thead>\n",
                            "  <tbody>\n",
                            "    <tr>\n",
                            "      <th>0</th>\n",
                            "      <td>A Light in the ...</td>\n",
                            "      <td>51.77</td>\n",
                            "      <td>In stock</td>\n",
                            "      <td>Three</td>\n",
                            "    </tr>\n",
                            "    <tr>\n",
                            "      <th>1</th>\n",
                            "      <td>Tipping the Velvet</td>\n",
                            "      <td>53.74</td>\n",
                            "      <td>In stock</td>\n",
                            "      <td>One</td>\n",
                            "    </tr>\n",
                            "    <tr>\n",
                            "      <th>2</th>\n",
                            "      <td>Soumission</td>\n",
                            "      <td>50.10</td>\n",
                            "      <td>In stock</td>\n",
                            "      <td>One</td>\n",
                            "    </tr>\n",
                            "    <tr>\n",
                            "      <th>3</th>\n",
                            "      <td>Sharp Objects</td>\n",
                            "      <td>47.82</td>\n",
                            "      <td>In stock</td>\n",
                            "      <td>Four</td>\n",
                            "    </tr>\n",
                            "    <tr>\n",
                            "      <th>4</th>\n",
                            "      <td>Sapiens: A Brief History ...</td>\n",
                            "      <td>54.23</td>\n",
                            "      <td>In stock</td>\n",
                            "      <td>Five</td>\n",
                            "    </tr>\n",
                            "  </tbody>\n",
                            "</table>\n",
                            "</div>"
                        ],
                        "text/plain": [
                            "                          Title  Price Availability Rating\n",
                            "0            A Light in the ...  51.77     In stock  Three\n",
                            "1            Tipping the Velvet  53.74     In stock    One\n",
                            "2                    Soumission  50.10     In stock    One\n",
                            "3                 Sharp Objects  47.82     In stock   Four\n",
                            "4  Sapiens: A Brief History ...  54.23     In stock   Five"
                        ]
                    },
                    "execution_count": 6,
                    "metadata": {},
                    "output_type": "execute_result"
                }
            ],
            "source": [
                "#Exercise 4: Process the DataFrame (Creation of df)\n",
                "df = pd.DataFrame(Books_table)\n",
                "df.head()\n",
                "#df.tail()"
            ]
        },
        {
            "cell_type": "code",
            "execution_count": 7,
            "metadata": {},
            "outputs": [
                {
                    "data": {
                        "text/plain": [
                            "20"
                        ]
                    },
                    "execution_count": 7,
                    "metadata": {},
                    "output_type": "execute_result"
                }
            ],
            "source": [
                "#Exercise 5: Storing data in SQL \n",
                "\n",
                "#Connections\n",
                "conn = sqlite3.connect('books.db') #Creates the conecction and the file \n",
                "cursor = conn.cursor() #To be able to run commands \n",
                "\n",
                "#Table Creation \n",
                "cursor.execute('''\n",
                "CREATE TABLE IF NOT EXISTS Books(Title TEXT,\n",
                "                Price REAL,\n",
                "                Availability TEXT,\n",
                "                Rating TEXT)\n",
                "''')\n",
                "\n",
                "df.to_sql('Books', conn, if_exists='append', index=False)"
            ]
        },
        {
            "cell_type": "code",
            "execution_count": 8,
            "metadata": {},
            "outputs": [],
            "source": [
                "#Commiting changes and closing the connection\n",
                "conn.commit()\n",
                "conn.close()"
            ]
        },
        {
            "cell_type": "code",
            "execution_count": 9,
            "metadata": {},
            "outputs": [
                {
                    "data": {
                        "image/png": "[encoded data removed]",
                        "text/plain": [
                            "<Figure size 800x600 with 1 Axes>"
                        ]
                    },
                    "metadata": {},
                    "output_type": "display_data"
                }
            ],
            "source": [
                "#Exercise 6: Visualization\n",
                "star_order = ['One', 'Two', 'Three', 'Four', 'Five'] #To indicate the index order \n",
                "rating_counts = df['Rating'].value_counts().reindex(star_order) #Selects the \"ratings\" to plot them, counts the values in the rating and then sorts the index by the pre-defined order\n",
                "\n",
                "plt.figure(figsize=(8,6))\n",
                "rating_counts.plot(kind='bar', color='red') #Plots a Bar chart \n",
                "plt.title('Number of Books by Star Rating\\n (Based on 20 books)', fontsize=14)\n",
                "plt.xlabel('Rating')\n",
                "plt.ylabel('Number of Books')\n",
                "plt.xticks(rotation=0)\n",
                "plt.tight_layout()\n",
                "plt.legend()\n",
                "plt.show()"
            ]
        }
    ],
    "metadata": {
        "kernelspec": {
            "display_name": "Python 3",
            "language": "python",
            "name": "python3"
        },
        "language_info": {
            "codemirror_mode": {
                "name": "ipython",
                "version": 3
            },
            "file_extension": ".py",
            "mimetype": "text/x-python",
            "name": "python",
            "nbconvert_exporter": "python",
            "pygments_lexer": "ipython3",
            "version": "3.11.4"
        },
        "orig_nbformat": 4
    },
    "nbformat": 4,
    "nbformat_minor": 2
}
